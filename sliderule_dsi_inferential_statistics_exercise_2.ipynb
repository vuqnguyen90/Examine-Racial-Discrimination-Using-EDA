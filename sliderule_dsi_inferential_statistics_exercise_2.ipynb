{
 "cells": [
  {
   "cell_type": "markdown",
   "metadata": {},
   "source": [
    "# Examining Racial Discrimination in the US Job Market\n",
    "\n",
    "### Background\n",
    "Racial discrimination continues to be pervasive in cultures throughout the world. Researchers examined the level of racial discrimination in the United States labor market by randomly assigning identical résumés to black-sounding or white-sounding names and observing the impact on requests for interviews from employers.\n",
    "\n",
    "### Data\n",
    "In the dataset provided, each row represents a resume. The 'race' column has two values, 'b' and 'w', indicating black-sounding and white-sounding. The column 'call' has two values, 1 and 0, indicating whether the resume received a call from employers or not.\n",
    "\n",
    "Note that the 'b' and 'w' values in race are assigned randomly to the resumes when presented to the employer."
   ]
  },
  {
   "cell_type": "markdown",
   "metadata": {},
   "source": [
    "### Exercises\n",
    "You will perform a statistical analysis to establish whether race has a significant impact on the rate of callbacks for resumes.\n",
    "\n",
    "Answer the following questions **in this notebook below and submit to your Github account**. \n",
    "\n",
    "   1. What test is appropriate for this problem? Does CLT apply?\n",
    "   2. What are the null and alternate hypotheses?\n",
    "   3. Compute margin of error, confidence interval, and p-value. Try using both the bootstrapping and the frequentist statistical approaches.\n",
    "   4. Write a story describing the statistical significance in the context or the original problem.\n",
    "   5. Does your analysis mean that race/name is the most important factor in callback success? Why or why not? If not, how would you amend your analysis?\n",
    "\n",
    "You can include written notes in notebook cells using Markdown: \n",
    "   - In the control panel at the top, choose Cell > Cell Type > Markdown\n",
    "   - Markdown syntax: http://nestacms.com/docs/creating-content/markdown-cheat-sheet\n",
    "\n",
    "#### Resources\n",
    "+ Experiment information and data source: http://www.povertyactionlab.org/evaluation/discrimination-job-market-united-states\n",
    "+ Scipy statistical methods: http://docs.scipy.org/doc/scipy/reference/stats.html \n",
    "+ Markdown syntax: http://nestacms.com/docs/creating-content/markdown-cheat-sheet\n",
    "+ Formulas for the Bernoulli distribution: https://en.wikipedia.org/wiki/Bernoulli_distribution"
   ]
  },
  {
   "cell_type": "code",
   "execution_count": 96,
   "metadata": {},
   "outputs": [],
   "source": [
    "import pandas as pd\n",
    "import numpy as np\n",
    "from scipy import stats\n",
    "import scipy.stats as st\n",
    "import math\n",
    "import numpy as np\n"
   ]
  },
  {
   "cell_type": "code",
   "execution_count": 90,
   "metadata": {},
   "outputs": [],
   "source": [
    "data = pd.io.stata.read_stata('data/us_job_market_discrimination.dta')"
   ]
  },
  {
   "cell_type": "code",
   "execution_count": 91,
   "metadata": {},
   "outputs": [
    {
     "data": {
      "text/plain": [
       "235.0"
      ]
     },
     "execution_count": 91,
     "metadata": {},
     "output_type": "execute_result"
    }
   ],
   "source": [
    "# number of callbacks for black-sounding names\n",
    "sum(data[data.race=='w'].call)"
   ]
  },
  {
   "cell_type": "code",
   "execution_count": 92,
   "metadata": {},
   "outputs": [
    {
     "data": {
      "text/html": [
       "<div>\n",
       "<style scoped>\n",
       "    .dataframe tbody tr th:only-of-type {\n",
       "        vertical-align: middle;\n",
       "    }\n",
       "\n",
       "    .dataframe tbody tr th {\n",
       "        vertical-align: top;\n",
       "    }\n",
       "\n",
       "    .dataframe thead th {\n",
       "        text-align: right;\n",
       "    }\n",
       "</style>\n",
       "<table border=\"1\" class=\"dataframe\">\n",
       "  <thead>\n",
       "    <tr style=\"text-align: right;\">\n",
       "      <th></th>\n",
       "      <th>id</th>\n",
       "      <th>ad</th>\n",
       "      <th>education</th>\n",
       "      <th>ofjobs</th>\n",
       "      <th>yearsexp</th>\n",
       "      <th>honors</th>\n",
       "      <th>volunteer</th>\n",
       "      <th>military</th>\n",
       "      <th>empholes</th>\n",
       "      <th>occupspecific</th>\n",
       "      <th>...</th>\n",
       "      <th>compreq</th>\n",
       "      <th>orgreq</th>\n",
       "      <th>manuf</th>\n",
       "      <th>transcom</th>\n",
       "      <th>bankreal</th>\n",
       "      <th>trade</th>\n",
       "      <th>busservice</th>\n",
       "      <th>othservice</th>\n",
       "      <th>missind</th>\n",
       "      <th>ownership</th>\n",
       "    </tr>\n",
       "  </thead>\n",
       "  <tbody>\n",
       "    <tr>\n",
       "      <th>0</th>\n",
       "      <td>b</td>\n",
       "      <td>1</td>\n",
       "      <td>4</td>\n",
       "      <td>2</td>\n",
       "      <td>6</td>\n",
       "      <td>0</td>\n",
       "      <td>0</td>\n",
       "      <td>0</td>\n",
       "      <td>1</td>\n",
       "      <td>17</td>\n",
       "      <td>...</td>\n",
       "      <td>1.0</td>\n",
       "      <td>0.0</td>\n",
       "      <td>1.0</td>\n",
       "      <td>0.0</td>\n",
       "      <td>0.0</td>\n",
       "      <td>0.0</td>\n",
       "      <td>0.0</td>\n",
       "      <td>0.0</td>\n",
       "      <td>0.0</td>\n",
       "      <td></td>\n",
       "    </tr>\n",
       "    <tr>\n",
       "      <th>1</th>\n",
       "      <td>b</td>\n",
       "      <td>1</td>\n",
       "      <td>3</td>\n",
       "      <td>3</td>\n",
       "      <td>6</td>\n",
       "      <td>0</td>\n",
       "      <td>1</td>\n",
       "      <td>1</td>\n",
       "      <td>0</td>\n",
       "      <td>316</td>\n",
       "      <td>...</td>\n",
       "      <td>1.0</td>\n",
       "      <td>0.0</td>\n",
       "      <td>1.0</td>\n",
       "      <td>0.0</td>\n",
       "      <td>0.0</td>\n",
       "      <td>0.0</td>\n",
       "      <td>0.0</td>\n",
       "      <td>0.0</td>\n",
       "      <td>0.0</td>\n",
       "      <td></td>\n",
       "    </tr>\n",
       "    <tr>\n",
       "      <th>2</th>\n",
       "      <td>b</td>\n",
       "      <td>1</td>\n",
       "      <td>4</td>\n",
       "      <td>1</td>\n",
       "      <td>6</td>\n",
       "      <td>0</td>\n",
       "      <td>0</td>\n",
       "      <td>0</td>\n",
       "      <td>0</td>\n",
       "      <td>19</td>\n",
       "      <td>...</td>\n",
       "      <td>1.0</td>\n",
       "      <td>0.0</td>\n",
       "      <td>1.0</td>\n",
       "      <td>0.0</td>\n",
       "      <td>0.0</td>\n",
       "      <td>0.0</td>\n",
       "      <td>0.0</td>\n",
       "      <td>0.0</td>\n",
       "      <td>0.0</td>\n",
       "      <td></td>\n",
       "    </tr>\n",
       "    <tr>\n",
       "      <th>3</th>\n",
       "      <td>b</td>\n",
       "      <td>1</td>\n",
       "      <td>3</td>\n",
       "      <td>4</td>\n",
       "      <td>6</td>\n",
       "      <td>0</td>\n",
       "      <td>1</td>\n",
       "      <td>0</td>\n",
       "      <td>1</td>\n",
       "      <td>313</td>\n",
       "      <td>...</td>\n",
       "      <td>1.0</td>\n",
       "      <td>0.0</td>\n",
       "      <td>1.0</td>\n",
       "      <td>0.0</td>\n",
       "      <td>0.0</td>\n",
       "      <td>0.0</td>\n",
       "      <td>0.0</td>\n",
       "      <td>0.0</td>\n",
       "      <td>0.0</td>\n",
       "      <td></td>\n",
       "    </tr>\n",
       "    <tr>\n",
       "      <th>4</th>\n",
       "      <td>b</td>\n",
       "      <td>1</td>\n",
       "      <td>3</td>\n",
       "      <td>3</td>\n",
       "      <td>22</td>\n",
       "      <td>0</td>\n",
       "      <td>0</td>\n",
       "      <td>0</td>\n",
       "      <td>0</td>\n",
       "      <td>313</td>\n",
       "      <td>...</td>\n",
       "      <td>1.0</td>\n",
       "      <td>1.0</td>\n",
       "      <td>0.0</td>\n",
       "      <td>0.0</td>\n",
       "      <td>0.0</td>\n",
       "      <td>0.0</td>\n",
       "      <td>0.0</td>\n",
       "      <td>1.0</td>\n",
       "      <td>0.0</td>\n",
       "      <td>Nonprofit</td>\n",
       "    </tr>\n",
       "  </tbody>\n",
       "</table>\n",
       "<p>5 rows × 65 columns</p>\n",
       "</div>"
      ],
      "text/plain": [
       "  id ad  education  ofjobs  yearsexp  honors  volunteer  military  empholes  \\\n",
       "0  b  1          4       2         6       0          0         0         1   \n",
       "1  b  1          3       3         6       0          1         1         0   \n",
       "2  b  1          4       1         6       0          0         0         0   \n",
       "3  b  1          3       4         6       0          1         0         1   \n",
       "4  b  1          3       3        22       0          0         0         0   \n",
       "\n",
       "   occupspecific  ...  compreq  orgreq  manuf  transcom  bankreal trade  \\\n",
       "0             17  ...      1.0     0.0    1.0       0.0       0.0   0.0   \n",
       "1            316  ...      1.0     0.0    1.0       0.0       0.0   0.0   \n",
       "2             19  ...      1.0     0.0    1.0       0.0       0.0   0.0   \n",
       "3            313  ...      1.0     0.0    1.0       0.0       0.0   0.0   \n",
       "4            313  ...      1.0     1.0    0.0       0.0       0.0   0.0   \n",
       "\n",
       "  busservice othservice  missind  ownership  \n",
       "0        0.0        0.0      0.0             \n",
       "1        0.0        0.0      0.0             \n",
       "2        0.0        0.0      0.0             \n",
       "3        0.0        0.0      0.0             \n",
       "4        0.0        1.0      0.0  Nonprofit  \n",
       "\n",
       "[5 rows x 65 columns]"
      ]
     },
     "execution_count": 92,
     "metadata": {},
     "output_type": "execute_result"
    }
   ],
   "source": [
    "data.head()"
   ]
  },
  {
   "cell_type": "markdown",
   "metadata": {
    "collapsed": true
   },
   "source": [
    "Question 1: \n",
    "\n",
    "I would use the concept of testing for differences between proportion with independent samples. \n",
    "\n",
    "3 required conditions for CLT: \n",
    "1/ Randomization Condition\n",
    "2/ Independence Assumption\n",
    "3/ 10% rule. The sample size should be no more than 10% of the population\n",
    "4/ Large enough sample size\n",
    "\n",
    "From the background of the survey data, researcher examined the racial discrimination level in USA by randomly assigning identical résumés to black-sounding or white-sounding names to the employers. So condition 1 is met. In addition, it's fair to assume that one call back does not affec the decision to call the next one. Therefore, condition 2 also met. \n",
    "\n",
    "\n"
   ]
  },
  {
   "cell_type": "code",
   "execution_count": 93,
   "metadata": {},
   "outputs": [
    {
     "name": "stdout",
     "output_type": "stream",
     "text": [
      "(4870, 65)\n"
     ]
    }
   ],
   "source": [
    "print(data.shape)"
   ]
  },
  {
   "cell_type": "code",
   "execution_count": null,
   "metadata": {},
   "outputs": [],
   "source": [
    "There are 4870 samples in this study. There are 156 million working people. So the sample is less than 10% of population. So Condition \n",
    "3 and 4 are also met. Therefore, CLT still apply in this investigation. \n"
   ]
  },
  {
   "cell_type": "markdown",
   "metadata": {},
   "source": [
    "Question 2: \n",
    "\n",
    "Null Hypothesis Ho: The race does not have any impact on the rate of callbacks for resume. In other word, black and white people have the same probablity either to have the call back or fail to have the call back. \n",
    "\n",
    "Alteranitve Hypothesis Ha: The race does have an impact on the rate of callbacks for resume. So one race will have more advantage than other for the rate of call back\n",
    "\n",
    "Significant level is 5% \n",
    "\n",
    "\n",
    "    "
   ]
  },
  {
   "cell_type": "code",
   "execution_count": 97,
   "metadata": {},
   "outputs": [
    {
     "name": "stdout",
     "output_type": "stream",
     "text": [
      "number of black people in this study 2435\n",
      "number of call back for black people 157\n",
      "number of white people in this study 2435\n",
      "number of call back for white people 235\n"
     ]
    }
   ],
   "source": [
    "w = data[data.race=='w']\n",
    "b = data[data.race=='b']\n",
    "\n",
    "# The total call back for black and white people\n",
    "w_1=w[w.call==1]\n",
    "b_1=b[b.call==1]\n",
    "\n",
    "\n",
    "print ('number of black people in this study', len(b))\n",
    "print ('number of call back for black people',len(b_1))\n",
    "p_b=len(b_1)/len(b)\n",
    "\n",
    "print ('number of white people in this study', len(w))\n",
    "print ('number of call back for white people',len(w_1))\n",
    "p_w=len(w_1)/len(w)\n",
    "\n"
   ]
  },
  {
   "cell_type": "markdown",
   "metadata": {
    "collapsed": true
   },
   "source": [
    " 3. Compute margin of error, confidence interval, and p-value. Try using both the bootstrapping and the frequentist \n",
    "    statistical approaches."
   ]
  },
  {
   "cell_type": "markdown",
   "metadata": {},
   "source": [
    "Frequentist approach: 95% Confident Interval\n",
    "    "
   ]
  },
  {
   "cell_type": "code",
   "execution_count": 98,
   "metadata": {},
   "outputs": [
    {
     "name": "stdout",
     "output_type": "stream",
     "text": [
      "The probablity difference on the rate call back between black and white people  3.2032854209445585 %\n",
      "Margin of error : 0.015255406349886438\n",
      "confident interval : 0.016777447859559147 0.047288260559332024\n",
      "P-value: 3.983886837585077e-05\n"
     ]
    }
   ],
   "source": [
    "p=(len(b_1)+len(w_1))/(len(b)+len(w))\n",
    "\n",
    "diff=(p_w-p_b)\n",
    "moe=1.96*math.sqrt( (p_b*(1-p_b))/len(b) +  (p_w*(1-p_w))/len(w)              )\n",
    "\n",
    "upper_lim=diff+moe\n",
    "lower_lim=diff-moe\n",
    "\n",
    "\n",
    "std_error=math.sqrt(p*(1-p)*(1/len(b)+1/len(w)))\n",
    "\n",
    "z=((p_b-p_w)-0)/(std_error)\n",
    "\n",
    "prob=(st.norm.sf(abs(z)))*2\n",
    "\n",
    "print('The probablity difference on the rate call back between black and white people ',diff*100,'%')\n",
    "print('Margin of error :',moe)\n",
    "print('confident interval :', lower_lim, upper_lim)\n",
    "print('P-value:', prob)\n"
   ]
  },
  {
   "cell_type": "code",
   "execution_count": null,
   "metadata": {},
   "outputs": [],
   "source": [
    "Because P-value < significant level, the null hypotheis can be rejected. Therefore, the race does have an impact on the rate of \n",
    "call back between black and white people \n"
   ]
  },
  {
   "cell_type": "code",
   "execution_count": 48,
   "metadata": {},
   "outputs": [],
   "source": [
    "\n",
    "def bootstrap_replicate_1d(data,n):\n",
    "    \n",
    "    bs_sample=np.random.choice(data,n)\n",
    "    \n",
    "    unique, counts = np.unique(bs_sample, return_counts=True)\n",
    "    \n",
    "    nocall_count=counts[0]\n",
    "    call_count=counts[1]\n",
    "    \n",
    "    prob_nocall=nocall_count/n \n",
    "    prob_call=call_count/n\n",
    "    \n",
    "    return (prob_nocall,prob_call)\n",
    "\n",
    "def draw_bs_reps(data,n,size=1):\n",
    "    bs_replicates=np.empty(size)\n",
    "    bs_prob_nocall=[]\n",
    "    bs_prob_call=[]\n",
    "    for i in range (size):\n",
    "        prob_nocall,prob_call=bootstrap_replicate_1d(data,n)\n",
    "        bs_prob_nocall.append(prob_nocall)\n",
    "        bs_prob_call.append(prob_call)\n",
    "        \n",
    "    return (bs_prob_nocall,bs_prob_call)"
   ]
  },
  {
   "cell_type": "code",
   "execution_count": 101,
   "metadata": {},
   "outputs": [
    {
     "name": "stdout",
     "output_type": "stream",
     "text": [
      "The probablity difference on the rate call back between black and white people  3.202160164271048 %\n",
      "Margin of error : 0.015262759433865921\n",
      "confident interval : 0.01676619529282404 0.04727700799259692\n",
      "P-value: 0.0\n"
     ]
    }
   ],
   "source": [
    "\n",
    "# bootstrap sampling for black people \n",
    "bs_prob_b_nocall, bs_prob_b_call=draw_bs_reps(b['call'],len(b),10000)\n",
    "\n",
    "# bootstrap sampling for white people \n",
    "bs_prob_w_nocall, bs_prob_w_call=draw_bs_reps(w['call'],len(w),10000)\n",
    "\n",
    "\n",
    "bs_pb=np.mean(bs_prob_b_call)\n",
    "bs_pw=np.mean(bs_prob_w_call)\n",
    "\n",
    "p_overall=(bs_pb+bs_pw)/(len(data))\n",
    "\n",
    "bs_diff=(bs_pw-bs_pb)\n",
    "bs_moe=1.96*math.sqrt( (bs_pb*(1-bs_pb))/len(b) +  (bs_pw*(1-bs_pw))/len(w)              )\n",
    "\n",
    "upper_lim=bs_diff+moe\n",
    "lower_lim=bs_diff-moe\n",
    "\n",
    "bs_std_error=math.sqrt(p_overall*(1-p_overall)*(1/len(b)+1/len(w)))\n",
    "\n",
    "bs_z=((bs_pb-bs_pw)-0)/(bs_std_error)\n",
    "\n",
    "bs_prob=(st.norm.sf(abs(bs_z)))*2\n",
    "\n",
    "print('The probablity difference on the rate call back between black and white people ',(bs_diff)*100,'%')\n",
    "print('Margin of error :',bs_moe)\n",
    "print('confident interval :', lower_lim, upper_lim)\n",
    "print('P-value:', bs_prob)"
   ]
  },
  {
   "cell_type": "markdown",
   "metadata": {},
   "source": [
    "<div class=\"span5 alert alert-success\">\n",
    "<p> Your answers to Q4 and Q5 here </p>\n",
    "</div>"
   ]
  },
  {
   "cell_type": "code",
   "execution_count": null,
   "metadata": {
    "collapsed": true
   },
   "outputs": [],
   "source": [
    "4. Write a story describing the statistical significance in the context or the original problem.\n",
    "5. Does your analysis mean that race/name is the most important factor in callback success? Why or why not? If not, how would you amend your analysis?"
   ]
  },
  {
   "cell_type": "code",
   "execution_count": null,
   "metadata": {},
   "outputs": [],
   "source": [
    "Question 4: Because P-value < significant level from both frequentist and boostrap approaches, the null hypotheis can be rejected. Therefore, the race does have an impact on the rate of \n",
    "call back between black and white people "
   ]
  },
  {
   "cell_type": "code",
   "execution_count": null,
   "metadata": {},
   "outputs": [],
   "source": [
    "Question 5: the analysis only suggest that race does have impact on the call back between black and white people. \n",
    "This study only investigate the relationship between race and callback. However, there are a lot of other parameters that could\n",
    "affect the rate of callback like number of year experience, education, etc. I would say there seems a relationship between race \n",
    "and the rate of callback, but more in depth analysis will be required in order to arrive at the conclusion. \n"
   ]
  }
 ],
 "metadata": {
  "kernelspec": {
   "display_name": "Python 3",
   "language": "python",
   "name": "python3"
  },
  "language_info": {
   "codemirror_mode": {
    "name": "ipython",
    "version": 3
   },
   "file_extension": ".py",
   "mimetype": "text/x-python",
   "name": "python",
   "nbconvert_exporter": "python",
   "pygments_lexer": "ipython3",
   "version": "3.7.3"
  }
 },
 "nbformat": 4,
 "nbformat_minor": 1
}
